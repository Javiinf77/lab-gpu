{
 "cells": [
  {
   "cell_type": "code",
   "execution_count": 7,
   "id": "d2e5831a-eb2d-46a2-ada2-42dec0e90290",
   "metadata": {},
   "outputs": [
    {
     "name": "stdout",
     "output_type": "stream",
     "text": [
      "Tiempo con 1 proceso: 0.04704229161143303 s\n",
      "Tiempo con 2 procesos: 0.07912963442504406 s\n",
      "Tiempo con 4 procesos: 0.14585491456091404 s\n"
     ]
    }
   ],
   "source": [
    "import numpy as np\n",
    "from multiprocessing import Pool\n",
    "import time\n",
    "\n",
    "# Nueva función de reducción\n",
    "def sum_multiprocessing(A, ini, fin):\n",
    "    \"\"\"Suma los elementos del array A desde 'ini' hasta 'fin'.\"\"\"\n",
    "    return np.sum(A[ini:fin])\n",
    "\n",
    "# Tamaño del array y creación del mismo\n",
    "value = 5 * 10**6\n",
    "X = np.random.rand(value)\n",
    "\n",
    "# Definición de los segmentos\n",
    "segments_1 = [(X, 0, value)]\n",
    "segments_2 = [(X, 0, int(value/2)), (X, int(value/2), value)]\n",
    "segments_4 = [\n",
    "    (X, 0, int(value/4)), \n",
    "    (X, int(value/4), int(value/2)), \n",
    "    (X, int(value/2), int(3*value/4)), \n",
    "    (X, int(3*value/4), value)\n",
    "]\n",
    "\n",
    "# Mediciones\n",
    "start_time = time.perf_counter()\n",
    "with Pool(processes=1) as pool:\n",
    "    result_1 = pool.starmap(sum_multiprocessing, segments_1)\n",
    "end_time = time.perf_counter()\n",
    "print(\"Tiempo con 1 proceso:\", end_time - start_time, \"s\")\n",
    "\n",
    "start_time = time.perf_counter()\n",
    "with Pool(processes=2) as pool:\n",
    "    result_2 = pool.starmap(sum_multiprocessing, segments_2)\n",
    "end_time = time.perf_counter()\n",
    "print(\"Tiempo con 2 procesos:\", end_time - start_time, \"s\")\n",
    "\n",
    "start_time = time.perf_counter()\n",
    "with Pool(processes=4) as pool:\n",
    "    result_4 = pool.starmap(sum_multiprocessing, segments_4)\n",
    "end_time = time.perf_counter()\n",
    "print(\"Tiempo con 4 procesos:\", end_time - start_time, \"s\")\n"
   ]
  },
  {
   "cell_type": "code",
   "execution_count": 8,
   "id": "7c2f17af-a956-4009-9116-bee5f464ce35",
   "metadata": {},
   "outputs": [
    {
     "name": "stdout",
     "output_type": "stream",
     "text": [
      "Resultado obtenido en la GPU y copiado a la CPU: 2499871.8847916257\n",
      "Tiempo total (CPU->GPU, operación en GPU, GPU->CPU): 0.019719351083040237 s\n"
     ]
    }
   ],
   "source": [
    "import cupy as cp\n",
    "import numpy as np\n",
    "import time\n",
    "\n",
    "# Crear el array en la CPU\n",
    "value = 5 * 10**6\n",
    "X_cpu = np.random.rand(value)\n",
    "\n",
    "# Mediciones\n",
    "start_time = time.perf_counter()\n",
    "\n",
    "# Copiar el array a la GPU\n",
    "X_gpu = cp.array(X_cpu)\n",
    "\n",
    "# Sumar los elementos en la GPU\n",
    "result_gpu = cp.sum(X_gpu)\n",
    "\n",
    "# Copiar el resultado a la CPU\n",
    "result_cpu = result_gpu.get()\n",
    "\n",
    "end_time = time.perf_counter()\n",
    "\n",
    "print(\"Resultado obtenido en la GPU y copiado a la CPU:\", result_cpu)\n",
    "print(\"Tiempo total (CPU->GPU, operación en GPU, GPU->CPU):\", end_time - start_time, \"s\")\n"
   ]
  },
  {
   "cell_type": "code",
   "execution_count": 9,
   "id": "ca070787-b13e-4b82-859c-41dae84b3eb2",
   "metadata": {},
   "outputs": [
    {
     "name": "stdout",
     "output_type": "stream",
     "text": [
      "Resultado de la reducción con Numba: 2499706.2\n",
      "Tiempo total con Numba: 0.058716313913464546 s\n"
     ]
    }
   ],
   "source": [
    "from numba import cuda\n",
    "import numpy as np\n",
    "import time\n",
    "\n",
    "@cuda.jit\n",
    "def sum_reduce_kernel(data, result):\n",
    "    \"\"\"\n",
    "    Suma los elementos del array `data` en paralelo y almacena el resultado en `result`.\n",
    "    \"\"\"\n",
    "    idx = cuda.grid(1)\n",
    "    if idx < data.size:\n",
    "        cuda.atomic.add(result, 0, data[idx])\n",
    "\n",
    "# Crear datos en la CPU\n",
    "value = 5 * 10**6\n",
    "X_cpu = np.random.rand(value).astype(np.float32)\n",
    "\n",
    "# Copiar datos a la GPU\n",
    "X_gpu = cuda.to_device(X_cpu)\n",
    "result_gpu = cuda.device_array(1, dtype=np.float32)\n",
    "\n",
    "# Configurar el kernel\n",
    "threads_per_block = 256\n",
    "blocks_per_grid = (value + (threads_per_block - 1)) // threads_per_block\n",
    "\n",
    "# Medición\n",
    "start_time = time.perf_counter()\n",
    "\n",
    "# Ejecutar el kernel\n",
    "sum_reduce_kernel[blocks_per_grid, threads_per_block](X_gpu, result_gpu)\n",
    "\n",
    "# Copiar el resultado a la CPU\n",
    "result_cpu = result_gpu.copy_to_host()\n",
    "\n",
    "end_time = time.perf_counter()\n",
    "\n",
    "print(\"Resultado de la reducción con Numba:\", result_cpu[0])\n",
    "print(\"Tiempo total con Numba:\", end_time - start_time, \"s\")\n"
   ]
  },
  {
   "cell_type": "code",
   "execution_count": null,
   "id": "3df4a337-c07e-492f-9d08-e3e83695aceb",
   "metadata": {},
   "outputs": [],
   "source": []
  }
 ],
 "metadata": {
  "kernelspec": {
   "display_name": "Python 3 (ipykernel)",
   "language": "python",
   "name": "python3"
  },
  "language_info": {
   "codemirror_mode": {
    "name": "ipython",
    "version": 3
   },
   "file_extension": ".py",
   "mimetype": "text/x-python",
   "name": "python",
   "nbconvert_exporter": "python",
   "pygments_lexer": "ipython3",
   "version": "3.8.17"
  }
 },
 "nbformat": 4,
 "nbformat_minor": 5
}
