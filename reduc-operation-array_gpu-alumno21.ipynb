{
 "cells": [
  {
   "cell_type": "markdown",
   "id": "f942d288-be01-42cd-9b84-83529c6769be",
   "metadata": {},
   "source": [
    "## Reduction operation: the sum of the numbers in the range [0, value)"
   ]
  },
  {
   "cell_type": "code",
   "execution_count": 4,
   "id": "75fe7f31-3e76-4be4-8da0-40416b2a2397",
   "metadata": {},
   "outputs": [
    {
     "name": "stdout",
     "output_type": "stream",
     "text": [
      "Tamaño del array: 5000000\n"
     ]
    }
   ],
   "source": [
    "import argparse\n",
    "\n",
    "parser = argparse.ArgumentParser(description=\"Notebook GPU\")\n",
    "parser.add_argument('--value', type=int, default=5000000, help=\"Número de elementos en el array.\")\n",
    "args, unknown = parser.parse_known_args()\n",
    "\n",
    "value = args.value\n",
    "print(f\"Tamaño del array: {value}\")\n"
   ]
  },
  {
   "cell_type": "code",
   "execution_count": 1,
   "id": "496946fa-2a28-4c1d-8a6a-2ee0b8fd8ced",
   "metadata": {},
   "outputs": [
    {
     "name": "stdout",
     "output_type": "stream",
     "text": [
      "Time taken by reduction operation using a function: 2.62 ms ± 8.27 µs per loop (mean ± std. dev. of 2 runs, 100 loops each)\n",
      "And the result of the sum of numbers in the range [0, value) is: 24995.051343753086\n",
      "\n",
      "Time taken by reduction operation using numpy.sum(): 7.88 µs ± 8.1 ns per loop (mean ± std. dev. of 2 runs, 100,000 loops each)\n",
      "Now, the result using numpy.sum(): 24995.051343752984 \n",
      " \n",
      "Time taken by reduction operation using numpy.ndarray.sum(): 7.14 µs ± 0.478 ns per loop (mean ± std. dev. of 2 runs, 100,000 loops each)\n",
      "Now, the result using numpy.ndarray.sum(): 24995.051343752984\n"
     ]
    }
   ],
   "source": [
    "import numpy as np\n",
    "\n",
    "def reduc_operation(A):\n",
    "    \"\"\"Compute the sum of the elements of Array A in the range [0, value).\"\"\"\n",
    "    s = 0\n",
    "    for i in range(A.size):\n",
    "        s += A[i]\n",
    "    return s\n",
    "\n",
    "# Secuencial\n",
    "\n",
    "#value = 5*10**4\n",
    "\n",
    "X = np.random.rand(value)\n",
    "\n",
    "# Para imprimir los pimeros valores del array\n",
    "\n",
    "# print(X[0:12])\n",
    "\n",
    "# Utilizando las operaciones mágicas de ipython\n",
    "\n",
    "tiempo = %timeit -r 2 -o -q reduc_operation(X)\n",
    "\n",
    "print(\"Time taken by reduction operation using a function:\", tiempo)\n",
    "\n",
    "\n",
    "print(f\"And the result of the sum of numbers in the range [0, value) is: {reduc_operation(X)}\\n\")\n",
    "\n",
    "\n",
    "# Utilizando numpy.sum()\n",
    "\n",
    "tiempo = %timeit -r 2 -o -q np.sum(X)\n",
    "\n",
    "print(\"Time taken by reduction operation using numpy.sum():\", tiempo)\n",
    "\n",
    "print(\"Now, the result using numpy.sum():\", np.sum(X),\"\\n \")\n",
    "\n",
    "\n",
    "# Utilizando numpy.ndarray.sum()\n",
    "\n",
    "tiempo= %timeit -r 2 -o -q X.sum()\n",
    "\n",
    "print(\"Time taken by reduction operation using numpy.ndarray.sum():\", tiempo)\n",
    "\n",
    "print(\"Now, the result using numpy.ndarray.sum():\", X.sum())\n",
    "\n",
    "\n"
   ]
  },
  {
   "cell_type": "code",
   "execution_count": 12,
   "id": "23adb16a-7e95-4b8b-b964-78d72bd50878",
   "metadata": {},
   "outputs": [
    {
     "name": "stdout",
     "output_type": "stream",
     "text": [
      "Time taken by reduction operation using CuPy sum(): 155 µs ± 10.6 ns per loop (mean ± std. dev. of 2 runs, 10,000 loops each)\n",
      "Now, the result using CuPy sum(): 2499444.2881509443\n"
     ]
    }
   ],
   "source": [
    "#Ejercicio A - Usar la librería CuPy \n",
    "import cupy as cp\n",
    "\n",
    "# Inicializar el array en la GPU\n",
    "X_gpu = cp.random.rand(value)  \n",
    "\n",
    "# Calcular la suma usando CuPy\n",
    "tiempo = %timeit -r 2 -o -q cp.sum(X_gpu)\n",
    "print(\"Time taken by reduction operation using CuPy sum():\", tiempo)\n",
    "print(\"Now, the result using CuPy sum():\", cp.sum(X_gpu))"
   ]
  },
  {
   "cell_type": "code",
   "execution_count": 13,
   "id": "a9d3f7bf-fe0c-4f0c-a339-e13266ad6295",
   "metadata": {},
   "outputs": [
    {
     "name": "stdout",
     "output_type": "stream",
     "text": [
      "Sum result using Numba GPU kernel: 2500549.0\n",
      "Execution time: 0.037655 seconds\n"
     ]
    }
   ],
   "source": [
    "import time\n",
    "from numba import cuda\n",
    "\n",
    "@cuda.jit\n",
    "def gpu_reduction_kernel(A, result):\n",
    "    \"\"\"\n",
    "    Suma los elementos del array A en paralelo usando CUDA.\n",
    "    \"\"\"\n",
    "    idx = cuda.threadIdx.x + cuda.blockIdx.x * cuda.blockDim.x\n",
    "    if idx < A.size:\n",
    "        cuda.atomic.add(result, 0, A[idx])\n",
    "\n",
    "def calculate_with_numba(value):\n",
    "    \"\"\"\n",
    "    Calcula la suma de un array usando un kernel de reducción en GPU con Numba.\n",
    "    Mide y devuelve el tiempo de ejecución.\n",
    "    \"\"\"\n",
    "    # Crear el array en la GPU usando CuPy y `value`\n",
    "    X_gpu = cp.random.rand(value)\n",
    "    result = cp.array([0], dtype=cp.float32)\n",
    "\n",
    "    # Configurar el número de threads y bloques\n",
    "    threads_per_block = 256\n",
    "    blocks_per_grid = (X_gpu.size + (threads_per_block - 1)) // threads_per_block\n",
    "\n",
    "    # Medir el tiempo de ejecución\n",
    "    start_time = time.perf_counter()\n",
    "    gpu_reduction_kernel[blocks_per_grid, threads_per_block](X_gpu, result)\n",
    "    end_time = time.perf_counter()\n",
    "\n",
    "    print(f\"Sum result using Numba GPU kernel: {result[0]}\")\n",
    "    print(f\"Execution time: {end_time - start_time:.6f} seconds\")\n",
    "\n",
    "# Llamar a la función con el valor de `value`\n",
    "calculate_with_numba(value)\n",
    "\n"
   ]
  }
 ],
 "metadata": {
  "kernelspec": {
   "display_name": "Python 3 (ipykernel)",
   "language": "python",
   "name": "python3"
  },
  "language_info": {
   "codemirror_mode": {
    "name": "ipython",
    "version": 3
   },
   "file_extension": ".py",
   "mimetype": "text/x-python",
   "name": "python",
   "nbconvert_exporter": "python",
   "pygments_lexer": "ipython3",
   "version": "3.8.17"
  }
 },
 "nbformat": 4,
 "nbformat_minor": 5
}
